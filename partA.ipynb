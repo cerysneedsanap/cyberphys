{
 "cells": [
  {
   "cell_type": "code",
   "execution_count": 4,
   "metadata": {},
   "outputs": [
    {
     "name": "stdout",
     "output_type": "stream",
     "text": [
      "Fitting 3 folds for each of 10 candidates, totalling 30 fits\n",
      "new hyperparams -  {'n_estimators': 204, 'max_depth': 5, 'eta': 0.27596290300820486}\n",
      "accuracy - 0.9916666666666667\n",
      "classifiction report -\n",
      "              precision    recall  f1-score   support\n",
      "\n",
      "         0.0       0.99      0.99      0.99       608\n",
      "         1.0       0.99      0.99      0.99       592\n",
      "\n",
      "    accuracy                           0.99      1200\n",
      "   macro avg       0.99      0.99      0.99      1200\n",
      "weighted avg       0.99      0.99      0.99      1200\n",
      "\n",
      "confusion matrix - \n",
      "[[604   4]\n",
      " [  6 586]]\n"
     ]
    },
    {
     "data": {
      "image/png": "[encoded data removed]",
      "text/plain": [
       "<Figure size 432x288 with 2 Axes>"
      ]
     },
     "metadata": {
      "needs_background": "light"
     },
     "output_type": "display_data"
    }
   ],
   "source": [
    "#imports\n",
    "from pandas import read_csv\n",
    "import numpy as np\n",
    "from sklearn import metrics, model_selection\n",
    "from xgboost import XGBClassifier\n",
    "import matplotlib.pyplot as plt\n",
    "\n",
    "#read the training data\n",
    "path = \"TrainingDataBinary.csv\"\n",
    "data = read_csv(path, header=0)\n",
    "#split the data into the feature columns and the target column (x and y respectively)\n",
    "x = data[data.columns[:-1]]\n",
    "y = data[\"marker\"]\n",
    "\n",
    "#splits the training data into training and testing (80:20 training to testing)\n",
    "xTrain, xTest, yTrain, yTest = model_selection.train_test_split(x, y, test_size=0.2, random_state=0)\n",
    "\n",
    "#using XGBoost for speed and ease of handling the size of data\n",
    "model = XGBClassifier()\n",
    "#establishing parameters to be searched through\n",
    "params = {\n",
    "    #number of rounds - allowing space for overfitting and underfitting \n",
    "    'n_estimators': np.random.randint(50, 250, size=10),\n",
    "    #max tree depth\n",
    "    'max_depth': np.random.randint(3, 10, size=10),\n",
    "    #how much the learning rate shrinks by\n",
    "    'eta': np.random.uniform(0.01, 0.3, size=10),\n",
    "}\n",
    "#using a randomized search to tune hyperparameters for speed \n",
    "randSearch = model_selection.RandomizedSearchCV(model, param_distributions=params, verbose=True, n_iter=10, cv=3)\n",
    "randSearch.fit(xTrain, yTrain)\n",
    "#output the new parameters\n",
    "print('new hyperparams - ',  randSearch.best_params_)\n",
    "#set the model to use the best possible parameters\n",
    "newModel = randSearch.best_estimator_\n",
    "#test the new model on the test data cut from the training data\n",
    "yPred = newModel.predict(xTest)\n",
    "#output metrics from the new model\n",
    "print('accuracy - ' + str(metrics.accuracy_score(yTest, yPred)))\n",
    "print('classifiction report -\\n' + metrics.classification_report(yTest, yPred))\n",
    "cm = metrics.confusion_matrix(yTest, yPred)\n",
    "print('confusion matrix - \\n' + str(cm))\n",
    "#display confusion matrix\n",
    "cmDisplay = metrics.ConfusionMatrixDisplay(confusion_matrix = cm, display_labels = [0, 1]) \n",
    "cmDisplay.plot()\n",
    "plt.show()\n",
    "#add the new testing data \n",
    "path = \"TestingDataBinary.csv\"\n",
    "newdf = read_csv(path, header=0)\n",
    "#get all the features into the new model\n",
    "x = newdf[newdf.columns]\n",
    "#predict the desired values using the new model\n",
    "newdf['marker'] = newModel.predict(x)\n",
    "#output the results\n",
    "newdf.to_csv('TestingResultsBinary.csv', index=False)"
   ]
  }
 ],
 "metadata": {
  "kernelspec": {
   "display_name": "Python 3",
   "language": "python",
   "name": "python3"
  },
  "language_info": {
   "codemirror_mode": {
    "name": "ipython",
    "version": 3
   },
   "file_extension": ".py",
   "mimetype": "text/x-python",
   "name": "python",
   "nbconvert_exporter": "python",
   "pygments_lexer": "ipython3",
   "version": "3.10.6"
  }
 },
 "nbformat": 4,
 "nbformat_minor": 2
}
